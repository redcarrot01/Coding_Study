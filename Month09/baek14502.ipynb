{
 "cells": [
  {
   "cell_type": "code",
   "execution_count": 8,
   "metadata": {},
   "outputs": [
    {
     "name": "stdout",
     "output_type": "stream",
     "text": [
      "4 6\n",
      "0 0 0 0 0 0\n",
      "1 0 0 0 0 2\n",
      "1 1 1 0 0 2\n",
      "0 0 0 0 0 2\n",
      "9\n"
     ]
    }
   ],
   "source": [
    "import copy\n",
    "  \n",
    "n,m = map(int, input().split())\n",
    "nm = []\n",
    "for i in range(n):\n",
    "    l = list(map(int, input().split()))\n",
    "    nm.append(l)\n",
    "    \n",
    "dr = [-1, 0, 1, 0] # 위 아래 row 단위로 이동 \n",
    "dc = [0, 1, 0, -1] # 좌우 column 단위로 이동\n",
    "\n",
    "max_count = 0 #clean지역의 개수를 return 하는 변수\n",
    "\n",
    "# 벽 선택\n",
    "def select_wall(start, count):\n",
    "    global max_count\n",
    "    if count==3:\n",
    "        # deepcopy로 3개 벽이 선택된 배열 몽땅 복사\n",
    "        sel_nm = copy.deepcopy(nm)  \n",
    "        for r in range(n):\n",
    "            for c in range(m):\n",
    "                spread_virus(r, c, sel_nm)\n",
    "        # clean 지역 count\n",
    "        safe_count = sum(i.count(0) for i in sel_nm)\n",
    "        max_count = max(max_count, safe_count)\n",
    "        return True\n",
    "    \n",
    "    else :\n",
    "        for i in range(start, n*m):\n",
    "            r = i//m \n",
    "            c = i% m\n",
    "            if nm[r][c] == 0:\n",
    "                nm[r][c] =1\n",
    "                select_wall(i, count+1)\n",
    "                nm[r][c] =0 \n",
    "\n",
    "def spread_virus(r, c, sel_nm):\n",
    "    if sel_nm[r][c] == 2:\n",
    "        \n",
    "    # 상하좌우 4방향 확인하고 범위 벗어나거나\n",
    "    # 벽 만날때까지 반복\n",
    "        for dir in range(4):\n",
    "            n_r = r + dr[dir] # 2인 위치에서 상하 확인\n",
    "            n_c = c + dc[dir] # 2인 위치에서 좌우 확인\n",
    "            # 범위 벗어나지 않는 경우\n",
    "            if n_r >=0 and n_c>=0 and n_r<n and n_c<m:\n",
    "                if sel_nm[n_r][n_c] == 0:\n",
    "                       sel_nm[n_r][n_c] = 2\n",
    "                       spread_virus(n_r, n_c, sel_nm) \n",
    "                        \n",
    "select_wall(0,0)\n",
    "print(max_count)"
   ]
  },
  {
   "cell_type": "code",
   "execution_count": null,
   "metadata": {},
   "outputs": [],
   "source": []
  }
 ],
 "metadata": {
  "kernelspec": {
   "display_name": "Python 3",
   "language": "python",
   "name": "python3"
  },
  "language_info": {
   "codemirror_mode": {
    "name": "ipython",
    "version": 3
   },
   "file_extension": ".py",
   "mimetype": "text/x-python",
   "name": "python",
   "nbconvert_exporter": "python",
   "pygments_lexer": "ipython3",
   "version": "3.7.6"
  }
 },
 "nbformat": 4,
 "nbformat_minor": 4
}

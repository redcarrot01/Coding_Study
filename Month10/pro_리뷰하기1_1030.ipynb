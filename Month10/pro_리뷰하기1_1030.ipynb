{
 "cells": [
  {
   "cell_type": "code",
   "execution_count": 3,
   "metadata": {},
   "outputs": [
    {
     "data": {
      "text/plain": [
       "[4, 1, 2, 1, 0]"
      ]
     },
     "execution_count": 3,
     "metadata": {},
     "output_type": "execute_result"
    }
   ],
   "source": [
    "# 주식 가격 , 스택 큐\n",
    "# 1,2,3,2,3 -> 4,3,1,1,0\n",
    "# 가격이 떨어지지 않은 기간을 리턴, 유지나 문제 똑바로 읽자\n",
    "def solution(prices):\n",
    "    answer = []\n",
    "    for i in range(len(prices)):\n",
    "        cnt = 0\n",
    "        for j in range(i+1, len(prices)):\n",
    "            cnt +=1\n",
    "            if prices[i] > prices[j]:\n",
    "                break\n",
    "        answer.append(cnt)        \n",
    "    return answer\n",
    "solution([5, 2, 3, 2, 3])"
   ]
  },
  {
   "cell_type": "code",
   "execution_count": 1,
   "metadata": {},
   "outputs": [
    {
     "data": {
      "text/plain": [
       "8"
      ]
     },
     "execution_count": 1,
     "metadata": {},
     "output_type": "execute_result"
    }
   ],
   "source": [
    "# 다리를 지나는 트럭, 스택 큐\n",
    "def solution(bridge_length, weight, truck_weights):\n",
    "    # bridge_length 다리길이 \n",
    "    # weight 견딜 수 있는 무게\n",
    "    # truck_weights 트럭 무게\n",
    "    answer=0\n",
    "    # bridge : 트럭이 건너고 있는 다리\n",
    "    bridge = [0]*bridge_length\n",
    "    \n",
    "    while bridge:\n",
    "        bridge.pop(0)\n",
    "        answer += 1\n",
    "        # 대기하고 있는 트럭\n",
    "        if truck_weights:\n",
    "            sum_bridge = sum(bridge)\n",
    "            if(sum_bridge + truck_weights[0] ) <= weight:\n",
    "                bridge.append(truck_weights.pop(0))\n",
    "            else:\n",
    "                bridge.append(0)\n",
    "    return answer\n",
    "solution(2, 10, [7,4,5,6])"
   ]
  },
  {
   "cell_type": "code",
   "execution_count": null,
   "metadata": {},
   "outputs": [],
   "source": [
    "# 기능 개발\n",
    "# progresses\t  speeds\t  return\n",
    "# [93, 30, 55]\t[1, 30, 5]\t[2, 1]\n",
    "# 작업이 끝나기 전까지 남은 일수를 이용하면 return 할 수 있을 것 같다\n",
    "\n",
    "def solution(progresses, speeds):\n",
    "    answer=[]\n",
    "    tmp = []\n",
    "    l=len(progresses)\n",
    "    for i in range(l):\n",
    "        cnt = 0\n",
    "#         for j in range(len(speeds)):\n",
    "        if (100-progresses[i])%speeds[i]==0:\n",
    "            cnt = (100-progresses[i])//speeds[i]\n",
    "        else:\n",
    "            cnt = (100-progresses[i])//speeds[i] + 1\n",
    "        tmp.append(cnt) # [7, 3, 9] -> [2, 1] , [5, 10, 1, 1, 20, 1] -> [1, 3, 2]\n",
    "    print(tmp)      \n",
    "    \n",
    "    idx=0\n",
    "    while True:\n",
    "        if max(tmp[idx:])==tmp[idx]:\n",
    "            answer.append(len(tmp[idx:]))\n",
    "            break\n",
    "        cnt=0\n",
    "        for i in range(idx+1,len(tmp)):\n",
    "            cnt+=1\n",
    "            if tmp[idx]<tmp[i]:\n",
    "                idx=i\n",
    "                answer.append(cnt)\n",
    "                break\n",
    "                \n",
    "    return answer\n",
    "solution([95, 90, 99, 99, 80, 99], [1, 1, 1, 1, 1, 1])"
   ]
  },
  {
   "cell_type": "code",
   "execution_count": null,
   "metadata": {},
   "outputs": [],
   "source": [
    "# itertools는 무엇인가? - 조사"
   ]
  },
  {
   "cell_type": "code",
   "execution_count": null,
   "metadata": {},
   "outputs": [],
   "source": [
    "# 전화번호 목록\n",
    "# 아이거 접두어 확인 [119, 97674223, 1195524421]\tfalse,\n",
    "# [123,456,789]\ttrue\n",
    "def solution(phone_book):\n",
    "    answer = True\n",
    "    # 정렬하면 옆 원소랑만 비교\n",
    "    phone_book.sort()\n",
    "    for i in range(len(phone_book)-1):\n",
    "        # 문자열 있는지 없는지만 확ㅇ니 -> 시간 초과 안떠\n",
    "        if phone_book[i] in phone_book[i+1][:len(phone_book[i])]:\n",
    "            return False\n",
    "    return answer\n",
    "solution([119, 97674223, 1195524421])"
   ]
  },
  {
   "cell_type": "code",
   "execution_count": null,
   "metadata": {},
   "outputs": [],
   "source": [
    "# h-index\n",
    "# citations 는 내림차순\n",
    "# index와 내림차순한 배열값을 비교하여 index> 배열값 이것을 리턴\n",
    "\n",
    "def solution(citations):\n",
    "    citations.sort(reverse=True)\n",
    "    c_len = len(citations)\n",
    "    for i in range(c_len):\n",
    "        if citations[i]<=i:\n",
    "            return i\n",
    "    # 6,6,6,6,6,7 -> 6이되어야\n",
    "    if min(citations)> c_len-1:\n",
    "        return c_len\n",
    "    # 0,0 -> 0\n",
    "    return 0"
   ]
  },
  {
   "cell_type": "code",
   "execution_count": null,
   "metadata": {},
   "outputs": [],
   "source": [
    "# 가장 큰수\n",
    "# 이것은 길이제한 \n",
    "# 조합시간 len(numbers)!  => 이것은 1초내로 못들어와\n",
    "# 결론 numbers내 모든 자연수 4자리수 만들기\n",
    "# 1억은 1초를 넘기지 않는다 \n",
    "# 단 4자리 만들때 10 곱하는 것이 아니라 그 수 반복\n",
    "\n",
    "def solution(numbers):\n",
    "    # 문자열로 바꿔줘 - 출력 조건 이기도 함\n",
    "    numbers = [str(x) for x in numbers]\n",
    "    # 4자리로 만들어주고 역순 배열\n",
    "    numbers.sort(key = lambda x :(x*4)[:4], reverse=True)\n",
    "    # 넘버스가 0이 가득할 수도 있으니 예외조건 만들어줘\n",
    "    answer = ''.join(numbers) if numbers[0]!= '0' else '0'\n",
    "    return answer"
   ]
  },
  {
   "cell_type": "code",
   "execution_count": 2,
   "metadata": {},
   "outputs": [],
   "source": [
    "# 땅따먹기"
   ]
  },
  {
   "cell_type": "code",
   "execution_count": null,
   "metadata": {},
   "outputs": [],
   "source": [
    "# 모의고사"
   ]
  },
  {
   "cell_type": "code",
   "execution_count": null,
   "metadata": {},
   "outputs": [],
   "source": [
    "# 스킬트리"
   ]
  },
  {
   "cell_type": "code",
   "execution_count": null,
   "metadata": {},
   "outputs": [],
   "source": [
    "# 오픈채팅방"
   ]
  },
  {
   "cell_type": "code",
   "execution_count": 3,
   "metadata": {},
   "outputs": [],
   "source": [
    "# 입국심사"
   ]
  },
  {
   "cell_type": "code",
   "execution_count": null,
   "metadata": {},
   "outputs": [],
   "source": [
    "# 3진법 바꾸기\n"
   ]
  }
 ],
 "metadata": {
  "kernelspec": {
   "display_name": "Python 3",
   "language": "python",
   "name": "python3"
  },
  "language_info": {
   "codemirror_mode": {
    "name": "ipython",
    "version": 3
   },
   "file_extension": ".py",
   "mimetype": "text/x-python",
   "name": "python",
   "nbconvert_exporter": "python",
   "pygments_lexer": "ipython3",
   "version": "3.7.6"
  }
 },
 "nbformat": 4,
 "nbformat_minor": 4
}

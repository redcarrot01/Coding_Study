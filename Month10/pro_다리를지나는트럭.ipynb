def solution(bridge_length, weight, truck_weights):
    # 길이만큼 다리 크기 정하기
    bridge = [0] * bridge_length
    cnt = 0
    
    while bridge:
        # 맨앞 pop
        bridge.pop(0)
        cnt += 1
        # 대기하고 있는 트럭
        if truck_weights :
            if (sum(bridge)+ truck_weights[0]) <= weight:
                bridge.append(truck_weights.pop(0))
            else:
                bridge.append(0)
    return cnt    

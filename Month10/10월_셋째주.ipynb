{
 "cells": [
  {
   "cell_type": "markdown",
   "metadata": {},
   "source": [
    "### 다리를지나는트럭"
   ]
  },
  {
   "cell_type": "code",
   "execution_count": 4,
   "metadata": {},
   "outputs": [
    {
     "data": {
      "text/plain": [
       "8"
      ]
     },
     "execution_count": 4,
     "metadata": {},
     "output_type": "execute_result"
    }
   ],
   "source": [
    "def solution(bridge_length, weight, truck_weights):\n",
    "    \n",
    "    # 다리 길이 brige_length\n",
    "    # 다리가 견딜 수 있는 무게 weight\n",
    "    # 대기 트럭 truck_weights\n",
    "    # 트럭이 건너고 있는 다리  bridge\n",
    "    \n",
    "    # 길이 만큼 다리 크기 정해서 초기화\n",
    "    bridge = [0]* bridge_length # [0,0,0, ...]\n",
    "    cnt = 0\n",
    "    # bridge가 []이 아니라면 \n",
    "    while bridge:\n",
    "        # 맨앞 pop\n",
    "        bridge.pop(0)\n",
    "        cnt += 1\n",
    "        \n",
    "        # 대기하고 있는 트럭\n",
    "        if truck_weights:\n",
    "            # bridge라는 리스트 원소의 합을 이런식으로 표현 가능\n",
    "            # bridge의 무게와 대기트럭 첫번째 원소의 합 <= weight\n",
    "            if (sum(bridge)+truck_weights[0])<= weight:\n",
    "                # 대기트럭의 맨앞 원소 pop한것을 bridge에 추가\n",
    "                bridge.append(truck_weights.pop(0))\n",
    "            else:\n",
    "                # 추가 하지 않기 위해서\n",
    "                bridge.append(0)\n",
    "    return cnt\n",
    "solution(2, 10, [7,4,5,6])    \n",
    "# bridge_length 2 , weight 10, truck_weights [7,4,5,6] return 8\n",
    "# bridge=[0,0] cnt =0 -> bridge=[0] cnt =1 if(0+7)<=10이므로 bridge=[0,7]\n",
    "# bridge=[7] cnt=2 -> else이므로 bridge=[7, 0]\n",
    "# bridge=[0] cnt=3 -> if(0+4)<=10 bridge=[0,4]\n",
    "# bridge=[4], cnt =4 -> if(4+5)<=10 bridge=[4,5]\n",
    "# bridge=[5], cnt=5 -> else(5+6) bridge=[5,0]\n",
    "# bridge=[0], cnt=6 -> if(0+6)<=10 bridge=[0,6]\n",
    "# bridge=[6], cnt =7 \n",
    "# bridge=[], cnt=8"
   ]
  },
  {
   "cell_type": "markdown",
   "metadata": {},
   "source": [
    "### 전화번호 목록"
   ]
  },
  {
   "cell_type": "code",
   "execution_count": 2,
   "metadata": {},
   "outputs": [
    {
     "data": {
      "text/plain": [
       "True"
      ]
     },
     "execution_count": 2,
     "metadata": {},
     "output_type": "execute_result"
    }
   ],
   "source": [
    "def solution(phone_book):\n",
    "    answer =True\n",
    "    # 이렇게 정렬하면 옆 원소랑만 비교하면 됨\n",
    "    phone_book.sort()\n",
    "    for i in range(len(phone_book)-1):\n",
    "        # 문자열 있는지 없는지 확인만 하면\n",
    "        # 시간 초과 안뜨지요\n",
    "        # i원소 길이만큼만 체크하기\n",
    "        if phone_book[i] in phone_book[i+1][:len(phone_book[i])]:\n",
    "            return False\n",
    "    return answer\n",
    "solution([\"123\",\"345\", \"678\"])"
   ]
  },
  {
   "cell_type": "markdown",
   "metadata": {},
   "source": [
    "### 땅따먹기"
   ]
  },
  {
   "cell_type": "code",
   "execution_count": 7,
   "metadata": {},
   "outputs": [
    {
     "data": {
      "text/plain": [
       "16"
      ]
     },
     "execution_count": 7,
     "metadata": {},
     "output_type": "execute_result"
    }
   ],
   "source": [
    "def solution(land):\n",
    "    answer = 0\n",
    "    # 행 i+1 번째의 최대값은 행 i번째의 최대값을 구해\n",
    "    # 누적한 방식이라구 ..\n",
    "    for i in range(0, len(land)-1):\n",
    "        land[i+1][0] += max(land[i][1], land[i][2], land[i][3])\n",
    "        land[i+1][1] += max(land[i][0], land[i][2], land[i][3])\n",
    "        land[i+1][2] += max(land[i][0], land[i][1], land[i][3])\n",
    "        land[i+1][3] += max(land[i][0], land[i][1], land[i][2])\n",
    "    answer = max(land[len(land)-1])\n",
    "    return answer\n",
    "solution([[1,2,3,5], [5,6,7,8], [4,3,2,1]])"
   ]
  },
  {
   "cell_type": "markdown",
   "metadata": {},
   "source": [
    "### 오픈채팅방"
   ]
  },
  {
   "cell_type": "code",
   "execution_count": 14,
   "metadata": {},
   "outputs": [
    {
     "name": "stdout",
     "output_type": "stream",
     "text": [
      "[['%s님이 들어왔습니다.', 'uid1234']]\n",
      "[['%s님이 들어왔습니다.', 'uid1234'], ['%s님이 들어왔습니다.', 'uid4567']]\n",
      "[['%s님이 들어왔습니다.', 'uid1234'], ['%s님이 들어왔습니다.', 'uid4567'], ['%s님이 나갔습니다.', 'uid1234'], ['%s님이 들어왔습니다.', 'uid1234']]\n"
     ]
    },
    {
     "data": {
      "text/plain": [
       "['Prodo님이 들어왔습니다.', 'Ryan님이 들어왔습니다.', 'Prodo님이 나갔습니다.', 'Prodo님이 들어왔습니다.']"
      ]
     },
     "execution_count": 14,
     "metadata": {},
     "output_type": "execute_result"
    }
   ],
   "source": [
    "# dictionary 사용\n",
    "def solution(record):\n",
    "    # 반환 최종 답\n",
    "    answer = []\n",
    "    # 아이디 : 이름 매칭\n",
    "    r_dict = dict()\n",
    "    # 1행 정보 리스트\n",
    "    result = []\n",
    "    \n",
    "    enter = \"%s님이 들어왔습니다.\"\n",
    "    leave = \"%s님이 나갔습니다.\"\n",
    "    \n",
    "    for i in record: #i는 한 문장\n",
    "        i_list = i.split(' ') # 한문장을 공백을 기준으로 나누어서 리스트에 저장\n",
    "        if i_list[0] == 'Enter':\n",
    "            r_dict[i_list[1]] = i_list[2]\n",
    "            result.append([enter, i_list[1]])\n",
    "            print(result)\n",
    "        elif i_list[0] == 'Leave':\n",
    "            result.append([leave, i_list[1]])\n",
    "#             print(result)\n",
    "        elif i_list[0] =='Change':\n",
    "            r_dict[i_list[1]] = i_list[2]\n",
    "            \n",
    "        # 최종 2차배열 result = [['%s님이 들어왔습니다.', 'uid1234'], ['%s님이 들어왔습니다.', 'uid4567'], \n",
    "        #          ['%s님이 나갔습니다.', 'uid1234'], ['%s님이 들어왔습니다.', 'uid1234']]\n",
    "    for j in result :\n",
    "        # \"%s님이 들어왔습니다\" 의 %s => Prodo\n",
    "        answer.append(j[0] % r_dict[j[1]])\n",
    "    return answer\n",
    "  \n",
    "solution([\"Enter uid1234 Muzi\", \"Enter uid4567 Prodo\",\"Leave uid1234\",\"Enter uid1234 Prodo\",\"Change uid4567 Ryan\"])\n",
    "\n",
    "# record [\"Enter uid1234 Muzi\", \"Enter uid4567 Prodo\",\"Leave uid1234\",\"Enter uid1234 Prodo\",\"Change uid4567 Ryan\"]   \n",
    "# result [\"Prodo님이 들어왔습니다.\", \"Ryan님이 들어왔습니다.\", \"Prodo님이 나갔습니다.\", \"Prodo님이 들어왔습니다.\"]"
   ]
  },
  {
   "cell_type": "code",
   "execution_count": 17,
   "metadata": {},
   "outputs": [
    {
     "name": "stdout",
     "output_type": "stream",
     "text": [
      "['a는 50번', 'b는 100번']\n"
     ]
    }
   ],
   "source": [
    "result = [['%s는 50번', 'a'],['%s는 100번', 'b']]\n",
    "answer = []\n",
    "for i in result:\n",
    "    answer.append(i[0]% i[1])\n",
    "print(answer)    "
   ]
  }
 ],
 "metadata": {
  "kernelspec": {
   "display_name": "Python 3",
   "language": "python",
   "name": "python3"
  },
  "language_info": {
   "codemirror_mode": {
    "name": "ipython",
    "version": 3
   },
   "file_extension": ".py",
   "mimetype": "text/x-python",
   "name": "python",
   "nbconvert_exporter": "python",
   "pygments_lexer": "ipython3",
   "version": "3.7.6"
  }
 },
 "nbformat": 4,
 "nbformat_minor": 4
}

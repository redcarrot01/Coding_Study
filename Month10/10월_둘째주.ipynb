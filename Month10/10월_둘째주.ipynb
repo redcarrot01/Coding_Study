{
 "cells": [
  {
   "cell_type": "markdown",
   "metadata": {},
   "source": [
    "## programmers 입국심사"
   ]
  },
  {
   "cell_type": "code",
   "execution_count": null,
   "metadata": {},
   "outputs": [],
   "source": [
    "# n:6, times:[7, 10] -> return:28\n",
    "def solution(n, times):\n",
    "    low = 1\n",
    "    high = max(times)*n\n",
    "    answer =0\n",
    "    \n",
    "    while low <=high:\n",
    "        # 한 심사관에게 주어진 시간\n",
    "        mid = (low+high) //2\n",
    "        people =0\n",
    "        for i in times:\n",
    "            # 각 심사관 마다 몇명 가능?\n",
    "            people += mid//i\n",
    "            # 모든 사람이 심사 가능하다면 벗어나기\n",
    "            if people >=n:\n",
    "                break\n",
    "        # 시간 줄여보기\n",
    "        if people >=n:\n",
    "            answer = mid\n",
    "            high = mid -1\n",
    "        # 모든 사람이 심사 할 수 없다면 시간 늘리기\n",
    "        else:\n",
    "            low = mid +1\n",
    "            \n",
    "    return answer         \n",
    "            \n"
   ]
  },
  {
   "cell_type": "markdown",
   "metadata": {},
   "source": [
    "## programmers 가장 큰 수"
   ]
  },
  {
   "cell_type": "code",
   "execution_count": 2,
   "metadata": {},
   "outputs": [],
   "source": [
    "# [6, 10, 2] -> 6210\n",
    "def solution(numbers):\n",
    "    numbers = list(map(str, numbers))\n",
    "    numbers.sorted(key=lambda x: x*3, reverse=True)\n",
    "    return str(int(''.join(numbers)))\n",
    "    \n",
    "# 문자열로 받으면 숫자크기가 큰 순서대로 정렬 가능\n",
    "# [0,0,0,0] ->0000 말고 0으로 처리하기 위해 int로 join\n",
    "# 문자열로 변환"
   ]
  },
  {
   "cell_type": "code",
   "execution_count": null,
   "metadata": {},
   "outputs": [],
   "source": [
    "def solution(numbers):\n",
    "    numbers = [str(x) for x in numbers]\n",
    "    numbers.sort(key=lambda x:x*4[:4], reverse=True)\n",
    "    answer = ''.join(numbers) if numbers[0] != '0' else '0'\n",
    "    return answer"
   ]
  },
  {
   "cell_type": "markdown",
   "metadata": {},
   "source": [
    "## programmers h-index"
   ]
  },
  {
   "cell_type": "code",
   "execution_count": 3,
   "metadata": {},
   "outputs": [],
   "source": [
    "# [3,0,6,1,5] -> 3\n",
    "def solution(citations):\n",
    "    citations.sort(reverse =True)\n",
    "    c_len = len(citations)\n",
    "    for i in range(c_len):\n",
    "        if citations[i] <= i:\n",
    "            return i\n",
    "    if min(citations)>c_len -1:\n",
    "        return c_len\n",
    "    return 0"
   ]
  }
 ],
 "metadata": {
  "kernelspec": {
   "display_name": "Python 3",
   "language": "python",
   "name": "python3"
  },
  "language_info": {
   "codemirror_mode": {
    "name": "ipython",
    "version": 3
   },
   "file_extension": ".py",
   "mimetype": "text/x-python",
   "name": "python",
   "nbconvert_exporter": "python",
   "pygments_lexer": "ipython3",
   "version": "3.7.6"
  }
 },
 "nbformat": 4,
 "nbformat_minor": 4
}

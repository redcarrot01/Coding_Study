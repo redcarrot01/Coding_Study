{
 "cells": [
  {
   "cell_type": "markdown",
   "metadata": {},
   "source": [
    "## range"
   ]
  },
  {
   "cell_type": "code",
   "execution_count": 12,
   "metadata": {},
   "outputs": [
    {
     "name": "stdout",
     "output_type": "stream",
     "text": [
      "range(0, 5) <class 'range'>\n",
      "(0, 1, 2, 3, 4)\n",
      "{0, 1, 2, 3, 4}\n",
      "[0, 1, 2, 3, 4]\n",
      "0 1 2 3 4 \n",
      "[5, 6, 7, 8, 9]\n"
     ]
    }
   ],
   "source": [
    "# range(stop) : 0 ~ stop-1 까지의 정수\n",
    "print(range(5), type(range(5)))\n",
    "print(tuple(range(5)))\n",
    "print(set(range(5)))\n",
    "print(list(range(5)))\n",
    "for i in range(5):\n",
    "    print(i, end=' ')\n",
    "print()\n",
    "# range(start, stop) : start~stop-1 까지의 정수\n",
    "print(list(range(5, 10)))"
   ]
  },
  {
   "cell_type": "markdown",
   "metadata": {},
   "source": [
    "## enumerate\n",
    "- 리스트가 있는 경우 순서와 리스트의 값을 전달하는 기능\n",
    "- enumerate 열거하다 \n",
    "- 이 함수는 순서가 있는 자료형(list, tuple, dictionary, string)을 입력으로 받아 인덱스 값을 포함하는 enumerate객체를 리턴\n",
    "- 보통 for문과 자주 사용"
   ]
  },
  {
   "cell_type": "code",
   "execution_count": 19,
   "metadata": {},
   "outputs": [
    {
     "name": "stdout",
     "output_type": "stream",
     "text": [
      "<enumerate object at 0x000001F079AABEA8> <class 'enumerate'>\n",
      "0 : 1\n",
      "1 : 2\n",
      "2 : 3\n",
      "\n",
      "0 : 1\n",
      "1 : 2\n",
      "2 : 3\n",
      "\n",
      "0 : 1\n",
      "1 : 2\n",
      "2 : 3\n",
      "\n",
      "0 : 이름 한사람\n",
      "1 : 나이 33\n",
      "\n",
      "0 : 재\n",
      "1 : 미\n",
      "2 : 있\n",
      "3 : 는\n",
      "4 :  \n",
      "5 : 파\n",
      "6 : 이\n",
      "7 : 썬\n",
      "\n"
     ]
    }
   ],
   "source": [
    "data=enumerate((1,2,3))\n",
    "print(data, type(data))\n",
    "\n",
    "for i,value in data:\n",
    "    print(i, \":\", value)\n",
    "print()  \n",
    "\n",
    "data = enumerate({1, 2, 3})\n",
    "for i, value in data:\n",
    "    print(i, \":\", value)\n",
    "print()\n",
    "\n",
    "data = enumerate([1, 2, 3])\n",
    "for i, value in data:\n",
    "    print(i, \":\", value)\n",
    "print()\n",
    "\n",
    "dict1 = {'이름': '한사람', '나이': 33}\n",
    "data = enumerate(dict1)\n",
    "for i, key in data:\n",
    "    print(i, \":\", key, dict1[key])\n",
    "print()\n",
    "\n",
    "data = enumerate(\"재미있는 파이썬\")\n",
    "for i, value in data:\n",
    "    print(i, \":\", value)\n",
    "print()"
   ]
  },
  {
   "cell_type": "code",
   "execution_count": 29,
   "metadata": {},
   "outputs": [
    {
     "name": "stdout",
     "output_type": "stream",
     "text": [
      "[1, 2, 3, 2, 1]\n"
     ]
    }
   ],
   "source": [
    "def solution(citations):\n",
    "    citations.sort(reverse=True)\n",
    "    answer = max(map(min, enumerate(citations, start=1)))\n",
    "    return answer\n",
    "solution([5,4,3,2,1])"
   ]
  },
  {
   "cell_type": "code",
   "execution_count": 31,
   "metadata": {},
   "outputs": [
    {
     "data": {
      "text/plain": [
       "3"
      ]
     },
     "execution_count": 31,
     "metadata": {},
     "output_type": "execute_result"
    }
   ],
   "source": [
    "def solution(citations):\n",
    "    citations.sort(reverse=True)\n",
    "    c_len = len(citations)\n",
    "    for i in range(c_len):\n",
    "        if citations[i] <= c_len-i:\n",
    "            return c_len-i\n",
    "    return 0    \n",
    "solution([3,0 ,6,1,5])"
   ]
  }
 ],
 "metadata": {
  "kernelspec": {
   "display_name": "Python 3",
   "language": "python",
   "name": "python3"
  },
  "language_info": {
   "codemirror_mode": {
    "name": "ipython",
    "version": 3
   },
   "file_extension": ".py",
   "mimetype": "text/x-python",
   "name": "python",
   "nbconvert_exporter": "python",
   "pygments_lexer": "ipython3",
   "version": "3.7.6"
  }
 },
 "nbformat": 4,
 "nbformat_minor": 4
}

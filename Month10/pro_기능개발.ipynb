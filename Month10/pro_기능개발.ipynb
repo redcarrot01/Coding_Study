{
 "cells": [
  {
   "cell_type": "code",
   "execution_count": null,
   "metadata": {},
   "outputs": [],
   "source": []
  },
  {
   "cell_type": "code",
   "execution_count": 4,
   "metadata": {},
   "outputs": [
    {
     "data": {
      "text/plain": [
       "[2, 1]"
      ]
     },
     "execution_count": 4,
     "metadata": {},
     "output_type": "execute_result"
    }
   ],
   "source": [
    "def solution(progresses, speeds):\n",
    "    answer = []\n",
    "    l = len(progresses)\n",
    "    p=0 # 현재 위치\n",
    "    while l != p:\n",
    "        tmp =0\n",
    "        # [93, 30, 55] [1, 30,5]\n",
    "        for i in range(p, l):\n",
    "            # [94, 60, 60]\n",
    "            progresses[i]+= speeds[i]\n",
    "        #     \n",
    "        if progresses[p] >= 100:\n",
    "            for i in range(p,l):\n",
    "                if progresses[i] >= 100:\n",
    "                    tmp += 1\n",
    "                else:\n",
    "                    break\n",
    "            answer.append(tmp)\n",
    "            p+=tmp\n",
    "    return answer\n",
    "solution([93, 30, 55], [1, 30, 5])\n",
    "\n",
    "# progresses에 speed 차례대로 더한다\n",
    "# p가 100넘어 완료된면\n",
    "#  p 뒤의 propgress확인해서 완료된거 빼고\n",
    "#  answer 더한다\n",
    "#  p는 성공한 곳까지 위치 옮기기"
   ]
  },
  {
   "cell_type": "code",
   "execution_count": null,
   "metadata": {},
   "outputs": [],
   "source": []
  }
 ],
 "metadata": {
  "kernelspec": {
   "display_name": "Python 3",
   "language": "python",
   "name": "python3"
  },
  "language_info": {
   "codemirror_mode": {
    "name": "ipython",
    "version": 3
   },
   "file_extension": ".py",
   "mimetype": "text/x-python",
   "name": "python",
   "nbconvert_exporter": "python",
   "pygments_lexer": "ipython3",
   "version": "3.7.0"
  }
 },
 "nbformat": 4,
 "nbformat_minor": 2
}

{
 "cells": [
  {
   "cell_type": "code",
   "execution_count": null,
   "metadata": {},
   "outputs": [],
   "source": []
  },
  {
   "cell_type": "code",
   "execution_count": 4,
   "metadata": {},
   "outputs": [
    {
     "data": {
      "text/plain": [
       "[2, 1]"
      ]
     },
     "execution_count": 4,
     "metadata": {},
     "output_type": "execute_result"
    }
   ],
   "source": [
    "def solution(progresses, speeds):\n",
    "    answer = []\n",
    "    l = len(progresses)\n",
    "    p=0 # 현재 위치\n",
    "    while l != p:\n",
    "        tmp =0\n",
    "        # [93, 30, 55] [1, 30,5]\n",
    "        for i in range(p, l):\n",
    "            # [94, 60, 60]\n",
    "            progresses[i]+= speeds[i]\n",
    "        #     \n",
    "        if progresses[p] >= 100:\n",
    "            for i in range(p,l):\n",
    "                if progresses[i] >= 100:\n",
    "                    tmp += 1\n",
    "                else:\n",
    "                    break\n",
    "            answer.append(tmp)\n",
    "            p+=tmp\n",
    "    return answer\n",
    "solution([93, 30, 55], [1, 30, 5])\n",
    "\n",
    "# progresses에 speed 차례대로 더한다\n",
    "# p가 100넘어 완료된면\n",
    "#  p 뒤의 propgress확인해서 완료된거 빼고\n",
    "#  answer 더한다\n",
    "#  p는 성공한 곳까지 위치 옮기기"
   ]
  },
  {
   "cell_type": "markdown",
   "metadata": {},
   "source": [
    "#### 문제의 핵심은 첫번째 기능 완성되지 않았다면 뒤의 있는 기능은 배포 불가\n",
    "- 따라서, 결국 progresses배열은 우선순위에 따라 입력된 것이기 때문에 첫번째 원소가 첫번째로 나가야 한다\n",
    "- 이 성질은 큐의 fifo\n",
    "  - 1. progresses 기능 모두 배포할 때 까지 반복\n",
    "  - 2. 각 반복회차마다 progresses[i]+=speeds[i]를 통해 당일 작업량 더해준다\n",
    "  - 3. 만일, progresses[0]의 배포 준비 완성되면 여태까지 배포가 완성된 기능들을 while문을 통해 카운팅\n",
    "  - 4. cnt값이 0 아니면 이를 answer에 넣기\n",
    "  - 5. 위 내용을 반복하여 모든 progresses 배열 내 기능들이  pop 되면 answer에 넣기"
   ]
  },
  {
   "cell_type": "code",
   "execution_count": 1,
   "metadata": {},
   "outputs": [
    {
     "data": {
      "text/plain": [
       "[2, 1]"
      ]
     },
     "execution_count": 1,
     "metadata": {},
     "output_type": "execute_result"
    }
   ],
   "source": [
    "def solution(progresses, speeds):\n",
    "    answer = []\n",
    "    while progresses:\n",
    "        for i in range(len(progresses)):\n",
    "            progresses[i] += speeds[i]\n",
    "        cnt = 0\n",
    "        while progresses and progresses[0] >= 100:\n",
    "            progresses.pop(0)\n",
    "            speeds.pop(0)\n",
    "            cnt += 1\n",
    "        if cnt:\n",
    "                answer.append(cnt)\n",
    "    return answer             \n",
    "solution([93, 30, 55], [1, 30, 5])"
   ]
  }
 ],
 "metadata": {
  "kernelspec": {
   "display_name": "Python 3",
   "language": "python",
   "name": "python3"
  },
  "language_info": {
   "codemirror_mode": {
    "name": "ipython",
    "version": 3
   },
   "file_extension": ".py",
   "mimetype": "text/x-python",
   "name": "python",
   "nbconvert_exporter": "python",
   "pygments_lexer": "ipython3",
   "version": "3.7.0"
  }
 },
 "nbformat": 4,
 "nbformat_minor": 2
}

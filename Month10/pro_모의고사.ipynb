{
 "cells": [
  {
   "cell_type": "code",
   "execution_count": null,
   "metadata": {},
   "outputs": [],
   "source": [
    "def solution(answers):\n",
    "    answer = []\n",
    "    \n",
    "    n1 = [1, 2, 3, 4, 5]\n",
    "    n2 = [2, 1, 2, 3, 2, 4, 2, 5]\n",
    "    n3 = [3, 3, 1, 1, 2, 2, 4, 4, 5, 5]\n",
    "    c1= c2= c3 =0\n",
    "    for i in range(len(answers)):\n",
    "\n",
    "        if answers[i] ==n1[i%5]:\n",
    "            c1+=1\n",
    "        if answers[i] ==n2[i%8]:\n",
    "            c2+=1\n",
    "        if answers[i] ==n3[i%10]:\n",
    "            c3+=1\n",
    "            \n",
    "    maxd = max(c1, c2, c3)\n",
    "\n",
    "    if maxd == c1: answer.append(1)\n",
    "    if maxd == c2: answer.append(2)\n",
    "    if maxd == c3: answer.append(3)\n",
    "    return answer"
   ]
  }
 ],
 "metadata": {
  "kernelspec": {
   "display_name": "Python 3",
   "language": "python",
   "name": "python3"
  },
  "language_info": {
   "codemirror_mode": {
    "name": "ipython",
    "version": 3
   },
   "file_extension": ".py",
   "mimetype": "text/x-python",
   "name": "python",
   "nbconvert_exporter": "python",
   "pygments_lexer": "ipython3",
   "version": "3.7.6"
  }
 },
 "nbformat": 4,
 "nbformat_minor": 4
}

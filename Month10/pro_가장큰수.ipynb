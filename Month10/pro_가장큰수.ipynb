{
 "cells": [
  {
   "cell_type": "markdown",
   "metadata": {},
   "source": [
    "## sort() vs sorted()\n",
    "\n",
    "### sort()\n",
    "- 리스트를 정렬된 상태로 변경\n",
    "- 리스트만을 위한 메소드\n",
    "- 오름차순 정렬: sort()\n",
    "- 내림차순 정렬: sort(reverse=True)\n",
    "\n",
    "### sorted()\n",
    "- 기존의 리스트를 변경하는 것이 아니라 정렬의 새로운 리스트 반환\n",
    "- 어떤 이터러블 객체도 받을 수 있다\n",
    "- 오름차순 정렬 sorted()\n",
    "- 내립차순 정렬 sorted(reverse= True)\n",
    "\n",
    "### key 매개변수\n",
    "- sorted와 lambda 이용\n",
    "- key 인자에 함수 넘겨주면, 해당 함수의 반환값을 비교하며 순서대로 정렬\n",
    " - 오름차순 정렬: sorted(a, key=lambda x:x[0])\n",
    " - 내림차순 정렬: sorted(a, key=lambda x:-x[0])\n",
    " - 요소별 정렬도 가능 : sorted(a, key=lambda x:(x[0], -x[1]))\n",
    "\n",
    "\n",
    "### 용어\n",
    "- iterable 객체: 반복 가능한 객체, 반복문에 사용 가능, 대표적으로 list, dict, set, str, tuple, range 등이 있다\n",
    " - for in 반복문, range, enumerate에서 iterable 한 타입과 iterable 한 타입 확인하는 방법 있음\n",
    "- iterator 객체 : 값을 차례대로 꺼낼 수 있는 객체  "
   ]
  },
  {
   "cell_type": "code",
   "execution_count": 2,
   "metadata": {},
   "outputs": [
    {
     "data": {
      "text/plain": [
       "'6210'"
      ]
     },
     "execution_count": 2,
     "metadata": {},
     "output_type": "execute_result"
    }
   ],
   "source": [
    "# sol1\n",
    "def solution(numbers):\n",
    "    # 문자열로 list, sort \n",
    "    numbers = list(map(str, numbers))\n",
    "    # 문자열은 숫자형과 달리 첫글자가 큰 순서대로 또는\n",
    "    # 문자열의 길이가 긴 순서대로 크기 비교 가능\n",
    "    # [666, 222,101010]\n",
    "    # sorted 사용은 기존의 리스트 변경하지 않으려고\n",
    "    numbers.sorted(key=lambda x :x*3, reverse=True )\n",
    "    # 정수형 -> 문자열로 바꾸는 이유 : 0의 케이스 대비\n",
    "    # [0,0,0,0] 인경우 join하면 0000 이것을 0으로 바꾸려고\n",
    "    # [6, 2,10 ]인 거지..\n",
    "    return str(int(''.join(numbers)))\n",
    "solution([6, 10, 2])    "
   ]
  },
  {
   "cell_type": "code",
   "execution_count": null,
   "metadata": {},
   "outputs": [],
   "source": [
    "# sol 2\n",
    "def solution(numbers):\n",
    "    numbers = [str(x) for x in numbers ]\n",
    "    numbers.sort(key = lambda x: (x*4)[:4], reverse=True)\n",
    "    answer = ''.join(numbers) if numbers[0] != '0' else '0'\n",
    "    return answer"
   ]
  }
 ],
 "metadata": {
  "kernelspec": {
   "display_name": "Python 3",
   "language": "python",
   "name": "python3"
  },
  "language_info": {
   "codemirror_mode": {
    "name": "ipython",
    "version": 3
   },
   "file_extension": ".py",
   "mimetype": "text/x-python",
   "name": "python",
   "nbconvert_exporter": "python",
   "pygments_lexer": "ipython3",
   "version": "3.7.6"
  }
 },
 "nbformat": 4,
 "nbformat_minor": 4
}

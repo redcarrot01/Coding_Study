{
 "cells": [
  {
   "cell_type": "code",
   "execution_count": 6,
   "metadata": {},
   "outputs": [
    {
     "data": {
      "text/plain": [
       "True"
      ]
     },
     "execution_count": 6,
     "metadata": {},
     "output_type": "execute_result"
    }
   ],
   "source": [
    "def solution(phone_book):\n",
    "    answer = True\n",
    "    # 정렬하면 옆원소랑만 비교하면 됨\n",
    "    phone_book.sort()\n",
    "    for i in range(len(phone_book)-1):\n",
    "        # 문자열이 있는지 없는지만 확인하면 시간초과 안뜰 수있엉\n",
    "        if phone_book[i] in phone_book[i+1][:len(phone_book[i])]:\n",
    "            return False\n",
    "    return answer\n",
    "            \n",
    "solution([\"119\", \"12345\", \"1192356\"]) \n",
    "solution([\"123\",\"345\", \"678\"])"
   ]
  },
  {
   "cell_type": "code",
   "execution_count": null,
   "metadata": {},
   "outputs": [],
   "source": [
    "\n",
    "if item in list: \n",
    "    print('리스트에 값이 있습니다.') \n",
    "else: \n",
    "    print('리스트에 값이 없습니다.')\n",
    "\n"
   ]
  }
 ],
 "metadata": {
  "kernelspec": {
   "display_name": "Python 3",
   "language": "python",
   "name": "python3"
  },
  "language_info": {
   "codemirror_mode": {
    "name": "ipython",
    "version": 3
   },
   "file_extension": ".py",
   "mimetype": "text/x-python",
   "name": "python",
   "nbconvert_exporter": "python",
   "pygments_lexer": "ipython3",
   "version": "3.7.0"
  }
 },
 "nbformat": 4,
 "nbformat_minor": 2
}

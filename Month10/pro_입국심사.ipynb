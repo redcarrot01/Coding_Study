{
 "cells": [
  {
   "cell_type": "code",
   "execution_count": 6,
   "metadata": {},
   "outputs": [
    {
     "data": {
      "text/plain": [
       "28"
      ]
     },
     "execution_count": 6,
     "metadata": {},
     "output_type": "execute_result"
    }
   ],
   "source": [
    "def solution(n, times):\n",
    "    low =1\n",
    "    high = max(times)*n\n",
    "    answer = 0\n",
    "    \n",
    "    while low <= high:\n",
    "        # 한 심사관에게 주어진 시간\n",
    "        mid = (low+high) //2\n",
    "        people = 0\n",
    "        for i in times:\n",
    "            # 각 심사관 마다 몇명 가능한지\n",
    "            people += mid//i\n",
    "            # 모든 사람이 심사 가능 하다면 벗어나기\n",
    "            if people >= n:\n",
    "                break\n",
    "        # 시간 줄여보기        \n",
    "        if people >=n:\n",
    "            answer = mid\n",
    "            high = mid -1\n",
    "        # 모든 사람이 심사 할 수 없는 경우 시간 늘리기    \n",
    "        else:\n",
    "            low = mid + 1\n",
    "    \n",
    "    \n",
    "    return answer\n",
    "solution(6, [7,10])"
   ]
  },
  {
   "cell_type": "code",
   "execution_count": null,
   "metadata": {},
   "outputs": [],
   "source": []
  }
 ],
 "metadata": {
  "kernelspec": {
   "display_name": "Python 3",
   "language": "python",
   "name": "python3"
  },
  "language_info": {
   "codemirror_mode": {
    "name": "ipython",
    "version": 3
   },
   "file_extension": ".py",
   "mimetype": "text/x-python",
   "name": "python",
   "nbconvert_exporter": "python",
   "pygments_lexer": "ipython3",
   "version": "3.7.6"
  }
 },
 "nbformat": 4,
 "nbformat_minor": 4
}

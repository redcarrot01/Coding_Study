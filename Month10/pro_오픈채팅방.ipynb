{
 "cells": [
  {
   "cell_type": "markdown",
   "metadata": {},
   "source": [
    "### dictionary\n",
    "- 키와 값을 쌍으로 갖는 컬렉션"
   ]
  },
  {
   "cell_type": "code",
   "execution_count": 14,
   "metadata": {},
   "outputs": [
    {
     "name": "stdout",
     "output_type": "stream",
     "text": [
      "99\n",
      "1\n",
      "2\n"
     ]
    }
   ],
   "source": [
    "sc = {\"a\": 90, \"b\": 80, \"c\": 70}\n",
    "sc[\"a\"] = 99\n",
    "print(sc[\"a\"])\n",
    "\n",
    "# 튜플 리스트로부터 dict 생성\n",
    "p = [('kim', 1),('ddd', 2),('eee', 4)]\n",
    "mydict = dict(p)\n",
    "age = mydict['kim']\n",
    "print(age)\n",
    "\n",
    "# key = value 파라미터로부터 dict 생성\n",
    "ss = dict(a=1, b=2, c=3)\n",
    "print(ss['b'])"
   ]
  },
  {
   "cell_type": "code",
   "execution_count": 17,
   "metadata": {},
   "outputs": [
    {
     "name": "stdout",
     "output_type": "stream",
     "text": [
      "{'철수': 90, '민수': 88, '길동': 95}\n",
      "철수 : 90\n",
      "민수 : 85\n",
      "영희 : 80\n"
     ]
    }
   ],
   "source": [
    "## 추가, 수정, 삭제 , 읽기\n",
    "scores = {\"철수\": 90, \"민수\": 85, \"영희\": 80}\n",
    "scores[\"민수\"] = 88   # 수정\n",
    "scores[\"길동\"] = 95   # 추가\n",
    "del scores[\"영희\"]\n",
    "print(scores)\n",
    "\n",
    "\n",
    "scores = {\"철수\": 90, \"민수\": 85, \"영희\": 80}\n",
    " \n",
    "for key in scores:\n",
    "    val = scores[key]\n",
    "    print(\"%s : %d\" % (key, val))"
   ]
  },
  {
   "cell_type": "code",
   "execution_count": 23,
   "metadata": {},
   "outputs": [
    {
     "name": "stdout",
     "output_type": "stream",
     "text": [
      "철수\n",
      "민수\n",
      "영희\n",
      "90\n",
      "85\n",
      "80\n",
      "dict_items([('철수', 90), ('민수', 85), ('영희', 80)])\n",
      "[('철수', 90), ('민수', 85), ('영희', 80)]\n"
     ]
    }
   ],
   "source": [
    "# 유용한 dict  메서드\n",
    "\n",
    "scores = {\"철수\": 90, \"민수\": 85, \"영희\": 80}\n",
    " \n",
    "# keys() : 딕셔너리의 키값들로 된 dict_keys 객체 리턴\n",
    "keys = scores.keys()\n",
    "for k in keys:\n",
    "    print(k)\n",
    " \n",
    "# values() : 값 리턴\n",
    "values = scores.values()\n",
    "for v in values:\n",
    "    print(v)\n",
    "    \n",
    "    \n",
    "# items() :  키-값 쌍 Tuple 들로 구성된 dict_items 객체를 리턴\n",
    "scores = {\"철수\": 90, \"민수\": 85, \"영희\": 80}\n",
    "items = scores.items()\n",
    "print(items)\n",
    "\n",
    " \n",
    "# dict_items를 리스트로 변환할 때\n",
    "itemsList = list(items)\n",
    "print(itemsList)"
   ]
  },
  {
   "cell_type": "code",
   "execution_count": 30,
   "metadata": {},
   "outputs": [
    {
     "name": "stdout",
     "output_type": "stream",
     "text": [
      "[['%s님이 들어왔습니다.', 'uid1234']]\n",
      "[['%s님이 들어왔습니다.', 'uid1234'], ['%s님이 들어왔습니다.', 'uid4567']]\n",
      "[['%s님이 들어왔습니다.', 'uid1234'], ['%s님이 들어왔습니다.', 'uid4567'], ['%s님이 나갔습니다.', 'uid1234'], ['%s님이 들어왔습니다.', 'uid1234']]\n"
     ]
    },
    {
     "data": {
      "text/plain": [
       "['Prodo님이 들어왔습니다.', 'Ryan님이 들어왔습니다.', 'Prodo님이 나갔습니다.', 'Prodo님이 들어왔습니다.']"
      ]
     },
     "execution_count": 30,
     "metadata": {},
     "output_type": "execute_result"
    }
   ],
   "source": [
    "def solution(record):\n",
    "    # 최종 반환 답\n",
    "    answer = []\n",
    "    # 아이디:이름 매칭  \n",
    "    r_dict=dict()\n",
    "    # 1행 정보 저장 리스트\n",
    "    result = []\n",
    "    # enter\n",
    "    enter = \"%s님이 들어왔습니다.\"\n",
    "    # leave\n",
    "    leave = \"%s님이 나갔습니다.\"\n",
    "    for i in record: # i는 한 문장\n",
    "        i_list = i.split(' ') # 이것을 공백을 기준으로 나누어서 리스트에 넣기 -> i_list\n",
    "        if i_list[0] =='Enter': \n",
    "            r_dict[i_list[1]] = i_list[2]\n",
    "            result.append([enter,i_list[1]])\n",
    "            print(result)\n",
    "        elif i_list[0] =='Leave':\n",
    "            result.append([leave,i_list[1]])\n",
    "            #print(result)\n",
    "        elif i_list[0] =='Change':\n",
    "            r_dict[i_list[1]] = i_list[2]\n",
    "    # anwer에 result를 각각 append \n",
    "    for j in result:\n",
    "        answer.append(j[0]% r_dict[j[1]])\n",
    "    return answer\n",
    "\n",
    "solution([\"Enter uid1234 Muzi\", \"Enter uid4567 Prodo\",\"Leave uid1234\",\"Enter uid1234 Prodo\",\"Change uid4567 Ryan\"])"
   ]
  },
  {
   "cell_type": "code",
   "execution_count": null,
   "metadata": {},
   "outputs": [],
   "source": []
  }
 ],
 "metadata": {
  "kernelspec": {
   "display_name": "Python 3",
   "language": "python",
   "name": "python3"
  },
  "language_info": {
   "codemirror_mode": {
    "name": "ipython",
    "version": 3
   },
   "file_extension": ".py",
   "mimetype": "text/x-python",
   "name": "python",
   "nbconvert_exporter": "python",
   "pygments_lexer": "ipython3",
   "version": "3.7.0"
  }
 },
 "nbformat": 4,
 "nbformat_minor": 2
}

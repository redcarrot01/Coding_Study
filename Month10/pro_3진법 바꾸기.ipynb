{
 "cells": [
  {
   "cell_type": "code",
   "execution_count": 1,
   "metadata": {},
   "outputs": [
    {
     "data": {
      "text/plain": [
       "7"
      ]
     },
     "execution_count": 1,
     "metadata": {},
     "output_type": "execute_result"
    }
   ],
   "source": [
    "def solution(n):\n",
    "    tmp = []\n",
    "    answer = 0\n",
    "    if n<=2:\n",
    "        return n \n",
    "    while n>2:\n",
    "        tmp.append(n%3)\n",
    "        n=n//3\n",
    "        if n<3:\n",
    "            tmp.append(n) \n",
    "    for i in range(len(tmp)):\n",
    "        answer += tmp[i]*(3**((len(tmp)-1)-i))   \n",
    "    return answer\n",
    "solution(45)"
   ]
  },
  {
   "cell_type": "code",
   "execution_count": null,
   "metadata": {},
   "outputs": [],
   "source": []
  }
 ],
 "metadata": {
  "kernelspec": {
   "display_name": "Python 3",
   "language": "python",
   "name": "python3"
  },
  "language_info": {
   "codemirror_mode": {
    "name": "ipython",
    "version": 3
   },
   "file_extension": ".py",
   "mimetype": "text/x-python",
   "name": "python",
   "nbconvert_exporter": "python",
   "pygments_lexer": "ipython3",
   "version": "3.7.6"
  }
 },
 "nbformat": 4,
 "nbformat_minor": 4
}

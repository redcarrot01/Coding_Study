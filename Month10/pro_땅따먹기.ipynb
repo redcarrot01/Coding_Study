{
 "cells": [
  {
   "cell_type": "code",
   "execution_count": null,
   "metadata": {},
   "outputs": [],
   "source": [
    "def solution(land):\n",
    "    answer = 0\n",
    "    # 행 i+1번째의 최대값은 행 i번째의 최대값을 구해 누적하는 방식\n",
    "    for i in range(0, len(land)-1):\n",
    "        land[i+1][0] += max(land[i][1],land[i][2],land[i][3] )\n",
    "        land[i+1][1] += max(land[i][0],land[i][2],land[i][3] )\n",
    "        land[i+1][2] += max(land[i][1],land[i][3],land[i][0] )\n",
    "        land[i+1][3] += max(land[i][0],land[i][1],land[i][2] )\n",
    "        \n",
    "    answer = max(land[len(land)-1][0],land[len(land)-1][1],land[len(land)-1][2],land[len(land)-1][3] )\n",
    "    return answer"
   ]
  }
 ],
 "metadata": {
  "kernelspec": {
   "display_name": "Python 3",
   "language": "python",
   "name": "python3"
  },
  "language_info": {
   "codemirror_mode": {
    "name": "ipython",
    "version": 3
   },
   "file_extension": ".py",
   "mimetype": "text/x-python",
   "name": "python",
   "nbconvert_exporter": "python",
   "pygments_lexer": "ipython3",
   "version": "3.7.6"
  }
 },
 "nbformat": 4,
 "nbformat_minor": 4
}
